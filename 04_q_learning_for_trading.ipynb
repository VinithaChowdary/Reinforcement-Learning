{
 "cells": [
  {
   "cell_type": "markdown",
   "metadata": {},
   "source": [
    "# Reinforcement Learning for Trading - Deep Q-learning & the stock market"
   ]
  },
  {
   "cell_type": "markdown",
   "metadata": {},
   "source": [
    "To train a trading agent, we need to create a market environment that provides price and other information, offers trading-related actions, and keeps track of the portfolio to reward the agent accordingly."
   ]
  },
  {
   "cell_type": "markdown",
   "metadata": {},
   "source": [
    "## How to Design an OpenAI trading environment"
   ]
  },
  {
   "cell_type": "markdown",
   "metadata": {},
   "source": [
    "The OpenAI Gym allows for the design, registration, and utilization of environments that adhere to its architecture, as described in its [documentation](https://github.com/openai/gym/tree/master/gym/envs#how-to-create-new-environments-for-gym). The [trading_env.py](trading_env.py) file implements an example that illustrates how to create a class that implements the requisite `step()` and `reset()` methods.\n",
    "\n",
    "The trading environment consists of three classes that interact to facilitate the agent's activities:\n",
    " 1. The `DataSource` class loads a time series, generates a few features, and provides the latest observation to the agent at each time step. \n",
    " 2. `TradingSimulator` tracks the positions, trades and cost, and the performance. It also implements and records the results of a buy-and-hold benchmark strategy. \n",
    " 3. `TradingEnvironment` itself orchestrates the process. "
   ]
  },
  {
   "cell_type": "markdown",
   "metadata": {},
   "source": [
    "The book chapter explains these elements in more detail."
   ]
  },
  {
   "cell_type": "markdown",
   "metadata": {},
   "source": [
    "## A basic trading game"
   ]
  },
  {
   "cell_type": "markdown",
   "metadata": {},
   "source": [
    "To train the agent, we need to set up a simple game with a limited set of options, a relatively low-dimensional state, and other parameters that can be easily modified and extended.\n",
    "\n",
    "More specifically, the environment samples a stock price time series for a single ticker using a random start date to simulate a trading period that, by default, contains 252 days, or 1 year. The state contains the (scaled) price and volume, as well as some technical indicators like the percentile ranks of price and volume, a relative strength index (RSI), as well as 5- and 21-day returns. The agent can choose from three actions:\n",
    "\n",
    "- **Buy**: Invest capital for a long position in the stock\n",
    "- **Flat**: Hold cash only\n",
    "- **Sell short**: Take a short position equal to the amount of capital\n",
    "\n",
    "The environment accounts for trading cost, which is set to 10bps by default. It also deducts a 1bps time cost per period. It tracks the net asset value (NAV) of the agent's portfolio and compares it against the market portfolio (which trades frictionless to raise the bar for the agent)."
   ]
  },
  {
   "cell_type": "markdown",
   "metadata": {},
   "source": [
    "We use the same DDQN agent and neural network architecture that successfully learned to navigate the Lunar Lander environment. We let exploration continue for 500,000 time steps (~2,000 1yr trading periods) with linear decay of ε to 0.1 and exponential decay at a factor of 0.9999 thereafter."
   ]
  },
  {
   "cell_type": "markdown",
   "metadata": {},
   "source": [
    "## Imports & Settings"
   ]
  },
  {
   "cell_type": "markdown",
   "metadata": {},
   "source": [
    "### Imports"
   ]
  },
  {
   "cell_type": "code",
   "execution_count": 7,
   "metadata": {
    "ExecuteTime": {
     "end_time": "2021-11-16T04:10:21.897529Z",
     "start_time": "2021-11-16T04:10:21.892603Z"
    }
   },
   "outputs": [],
   "source": [
    "import warnings\n",
    "warnings.filterwarnings('ignore')"
   ]
  },
  {
   "cell_type": "code",
   "execution_count": 11,
   "metadata": {
    "ExecuteTime": {
     "end_time": "2021-11-16T04:10:23.441506Z",
     "start_time": "2021-11-16T04:10:21.898569Z"
    }
   },
   "outputs": [],
   "source": [
    "from pathlib import Path\n",
    "from time import time\n",
    "from collections import deque\n",
    "from random import sample\n",
    "\n",
    "import numpy as np\n",
    "import pandas as pd\n",
    "\n",
    "import matplotlib.pyplot as plt\n",
    "from matplotlib.ticker import FuncFormatter\n",
    "import seaborn as sns\n",
    "\n",
    "import tensorflow as tf\n",
    "from tensorflow.keras import Sequential\n",
    "from tensorflow.keras.layers import Dense, Dropout\n",
    "from tensorflow.keras.optimizers import Adam\n",
    "from tensorflow.keras.regularizers import l2\n",
    "\n",
    "import gymnasium as gym\n",
    "from gymnasium.envs.registration import register"
   ]
  },
  {
   "cell_type": "markdown",
   "metadata": {},
   "source": [
    "### Settings"
   ]
  },
  {
   "cell_type": "code",
   "execution_count": 12,
   "metadata": {
    "ExecuteTime": {
     "end_time": "2021-11-16T04:10:24.669692Z",
     "start_time": "2021-11-16T04:10:24.664510Z"
    }
   },
   "outputs": [],
   "source": [
    "np.random.seed(42)\n",
    "tf.random.set_seed(42)"
   ]
  },
  {
   "cell_type": "code",
   "execution_count": 13,
   "metadata": {
    "ExecuteTime": {
     "end_time": "2021-11-16T04:10:24.791466Z",
     "start_time": "2021-11-16T04:10:24.786681Z"
    }
   },
   "outputs": [],
   "source": [
    "sns.set_style('whitegrid')"
   ]
  },
  {
   "cell_type": "code",
   "execution_count": 14,
   "metadata": {
    "ExecuteTime": {
     "end_time": "2021-11-16T04:10:25.000425Z",
     "start_time": "2021-11-16T04:10:24.926689Z"
    }
   },
   "outputs": [
    {
     "name": "stdout",
     "output_type": "stream",
     "text": [
      "Using CPU\n"
     ]
    }
   ],
   "source": [
    "gpu_devices = tf.config.experimental.list_physical_devices('GPU')\n",
    "if gpu_devices:\n",
    "    print('Using GPU')\n",
    "    tf.config.experimental.set_memory_growth(gpu_devices[0], True)\n",
    "else:\n",
    "    print('Using CPU')"
   ]
  },
  {
   "cell_type": "code",
   "execution_count": 15,
   "metadata": {
    "ExecuteTime": {
     "end_time": "2021-11-16T04:10:25.033871Z",
     "start_time": "2021-11-16T04:10:25.031449Z"
    }
   },
   "outputs": [],
   "source": [
    "results_path = Path('results', 'trading_bot')\n",
    "if not results_path.exists():\n",
    "    results_path.mkdir(parents=True)"
   ]
  },
  {
   "cell_type": "markdown",
   "metadata": {},
   "source": [
    "### Helper functions"
   ]
  },
  {
   "cell_type": "code",
   "execution_count": 16,
   "metadata": {
    "ExecuteTime": {
     "end_time": "2021-11-16T04:10:30.326477Z",
     "start_time": "2021-11-16T04:10:30.324003Z"
    }
   },
   "outputs": [],
   "source": [
    "def format_time(t):\n",
    "    m_, s = divmod(t, 60)\n",
    "    h, m = divmod(m_, 60)\n",
    "    return '{:02.0f}:{:02.0f}:{:02.0f}'.format(h, m, s)"
   ]
  },
  {
   "cell_type": "markdown",
   "metadata": {},
   "source": [
    "## Set up Gym Environment"
   ]
  },
  {
   "cell_type": "markdown",
   "metadata": {},
   "source": [
    "Before using the custom environment, just like with the Lunar Lander environment, we need to register it:"
   ]
  },
  {
   "cell_type": "code",
   "execution_count": 17,
   "metadata": {
    "ExecuteTime": {
     "end_time": "2021-11-16T04:10:31.011029Z",
     "start_time": "2021-11-16T04:10:31.004868Z"
    }
   },
   "outputs": [],
   "source": [
    "trading_days = 252"
   ]
  },
  {
   "cell_type": "code",
   "execution_count": 18,
   "metadata": {
    "ExecuteTime": {
     "end_time": "2021-11-16T04:10:31.167371Z",
     "start_time": "2021-11-16T04:10:31.162398Z"
    }
   },
   "outputs": [],
   "source": [
    "register(\n",
    "    id='trading-v0',\n",
    "    entry_point='trading_env:TradingEnvironment',\n",
    "    max_episode_steps=trading_days\n",
    ")"
   ]
  },
  {
   "cell_type": "markdown",
   "metadata": {},
   "source": [
    "### Initialize Trading Environment"
   ]
  },
  {
   "cell_type": "markdown",
   "metadata": {},
   "source": [
    "We can instantiate the environment by using the desired trading costs and ticker:"
   ]
  },
  {
   "cell_type": "code",
   "execution_count": 19,
   "metadata": {
    "ExecuteTime": {
     "end_time": "2021-11-16T04:10:33.062989Z",
     "start_time": "2021-11-16T04:10:33.061026Z"
    }
   },
   "outputs": [],
   "source": [
    "trading_cost_bps = 1e-3\n",
    "time_cost_bps = 1e-4"
   ]
  },
  {
   "cell_type": "code",
   "execution_count": 20,
   "metadata": {
    "ExecuteTime": {
     "end_time": "2021-11-16T04:10:33.253407Z",
     "start_time": "2021-11-16T04:10:33.239317Z"
    }
   },
   "outputs": [
    {
     "data": {
      "text/plain": [
       "'Trading costs: 0.10% | Time costs: 0.01%'"
      ]
     },
     "execution_count": 20,
     "metadata": {},
     "output_type": "execute_result"
    }
   ],
   "source": [
    "f'Trading costs: {trading_cost_bps:.2%} | Time costs: {time_cost_bps:.2%}'"
   ]
  },
  {
   "cell_type": "code",
   "execution_count": 21,
   "metadata": {
    "ExecuteTime": {
     "end_time": "2021-11-16T04:14:48.346878Z",
     "start_time": "2021-11-16T04:14:46.084768Z"
    }
   },
   "outputs": [
    {
     "name": "stderr",
     "output_type": "stream",
     "text": [
      "INFO:trading_env:trading_env logger started.\n",
      "INFO:trading_env:loading data for AAPL...\n",
      "INFO:trading_env:Using data file at: /Users/vinithachowdary/Documents/College/SEMESTER 7/RL/Deep-Reinforcement-Learning-Trading-Agent/data/WIKI_PRICES.csv\n",
      "INFO:trading_env:loading data for AAPL...\n",
      "INFO:trading_env:Using data file at: /Users/vinithachowdary/Documents/College/SEMESTER 7/RL/Deep-Reinforcement-Learning-Trading-Agent/data/WIKI_PRICES.csv\n",
      "INFO:trading_env:got data for AAPL...\n",
      "INFO:trading_env:got data for AAPL...\n",
      "INFO:trading_env:None\n",
      "INFO:trading_env:None\n"
     ]
    },
    {
     "name": "stdout",
     "output_type": "stream",
     "text": [
      "<class 'pandas.core.frame.DataFrame'>\n",
      "DatetimeIndex: 9367 entries, 1981-01-30 to 2018-03-27\n",
      "Data columns (total 10 columns):\n",
      " #   Column   Non-Null Count  Dtype  \n",
      "---  ------   --------------  -----  \n",
      " 0   returns  9367 non-null   float64\n",
      " 1   ret_2    9367 non-null   float64\n",
      " 2   ret_5    9367 non-null   float64\n",
      " 3   ret_10   9367 non-null   float64\n",
      " 4   ret_21   9367 non-null   float64\n",
      " 5   rsi      9367 non-null   float64\n",
      " 6   macd     9367 non-null   float64\n",
      " 7   atr      9367 non-null   float64\n",
      " 8   stoch    9367 non-null   float64\n",
      " 9   ultosc   9367 non-null   float64\n",
      "dtypes: float64(10)\n",
      "memory usage: 805.0 KB\n"
     ]
    }
   ],
   "source": [
    "trading_environment = gym.make('trading-v0', \n",
    "                               ticker='AAPL',\n",
    "                               trading_days=trading_days,\n",
    "                               trading_cost_bps=trading_cost_bps,\n",
    "                               time_cost_bps=time_cost_bps)\n",
    "# Set seed for reproducibility\n",
    "np.random.seed(42)"
   ]
  },
  {
   "cell_type": "code",
   "execution_count": 40,
   "metadata": {},
   "outputs": [
    {
     "name": "stderr",
     "output_type": "stream",
     "text": [
      "INFO:trading_env:trading_env logger started.\n"
     ]
    }
   ],
   "source": [
    "# Reload the trading environment module to ensure we get the latest version\n",
    "import importlib\n",
    "import trading_env\n",
    "importlib.reload(trading_env)\n",
    "\n",
    "# Re-register the environment with the updated module\n",
    "from gymnasium.envs.registration import register\n",
    "register(\n",
    "    id='trading-v1',  # Use a new ID to avoid conflicts\n",
    "    entry_point='trading_env:TradingEnvironment',\n",
    "    max_episode_steps=trading_days\n",
    ")"
   ]
  },
  {
   "cell_type": "code",
   "execution_count": 43,
   "metadata": {},
   "outputs": [
    {
     "name": "stderr",
     "output_type": "stream",
     "text": [
      "INFO:trading_env:loading data for AAPL...\n",
      "INFO:trading_env:Using data file at: /Users/vinithachowdary/Documents/College/SEMESTER 7/RL/Deep-Reinforcement-Learning-Trading-Agent/data/WIKI_PRICES.csv\n",
      "INFO:trading_env:got data for AAPL...\n",
      "INFO:trading_env:None\n"
     ]
    },
    {
     "name": "stdout",
     "output_type": "stream",
     "text": [
      "<class 'pandas.core.frame.DataFrame'>\n",
      "DatetimeIndex: 9367 entries, 1981-01-30 to 2018-03-27\n",
      "Data columns (total 10 columns):\n",
      " #   Column   Non-Null Count  Dtype  \n",
      "---  ------   --------------  -----  \n",
      " 0   returns  9367 non-null   float64\n",
      " 1   ret_2    9367 non-null   float64\n",
      " 2   ret_5    9367 non-null   float64\n",
      " 3   ret_10   9367 non-null   float64\n",
      " 4   ret_21   9367 non-null   float64\n",
      " 5   rsi      9367 non-null   float64\n",
      " 6   macd     9367 non-null   float64\n",
      " 7   atr      9367 non-null   float64\n",
      " 8   stoch    9367 non-null   float64\n",
      " 9   ultosc   9367 non-null   float64\n",
      "dtypes: float64(10)\n",
      "memory usage: 805.0 KB\n"
     ]
    }
   ],
   "source": [
    "# Create a new trading environment with the reloaded module\n",
    "trading_environment = gym.make('trading-v1', \n",
    "                               ticker='AAPL',\n",
    "                               trading_days=trading_days,\n",
    "                               trading_cost_bps=trading_cost_bps,\n",
    "                               time_cost_bps=time_cost_bps)\n",
    "# Set seed for reproducibility\n",
    "np.random.seed(42)"
   ]
  },
  {
   "cell_type": "markdown",
   "metadata": {},
   "source": [
    "### Get Environment Params"
   ]
  },
  {
   "cell_type": "code",
   "execution_count": 44,
   "metadata": {
    "ExecuteTime": {
     "end_time": "2021-02-25T06:20:32.548145Z",
     "start_time": "2021-02-25T06:20:32.545830Z"
    }
   },
   "outputs": [],
   "source": [
    "state_dim = trading_environment.observation_space.shape[0]\n",
    "num_actions = trading_environment.action_space.n\n",
    "max_episode_steps = trading_environment.spec.max_episode_steps"
   ]
  },
  {
   "cell_type": "markdown",
   "metadata": {},
   "source": [
    "## Define Trading Agent"
   ]
  },
  {
   "cell_type": "code",
   "execution_count": 51,
   "metadata": {
    "ExecuteTime": {
     "end_time": "2021-02-25T06:20:32.563692Z",
     "start_time": "2021-02-25T06:20:32.549782Z"
    }
   },
   "outputs": [],
   "source": [
    "class DDQNAgent:\n",
    "    def __init__(self, state_dim,\n",
    "                 num_actions,\n",
    "                 learning_rate,\n",
    "                 gamma,\n",
    "                 epsilon_start,\n",
    "                 epsilon_end,\n",
    "                 epsilon_decay_steps,\n",
    "                 epsilon_exponential_decay,\n",
    "                 replay_capacity,\n",
    "                 architecture,\n",
    "                 l2_reg,\n",
    "                 tau,\n",
    "                 batch_size):\n",
    "\n",
    "        self.state_dim = state_dim\n",
    "        self.num_actions = num_actions\n",
    "        self.experience = deque([], maxlen=replay_capacity)\n",
    "        self.learning_rate = learning_rate\n",
    "        self.gamma = gamma\n",
    "        self.architecture = architecture\n",
    "        self.l2_reg = l2_reg\n",
    "\n",
    "        self.online_network = self.build_model()\n",
    "        self.target_network = self.build_model(trainable=False)\n",
    "        self.update_target()\n",
    "\n",
    "        self.epsilon = epsilon_start\n",
    "        self.epsilon_decay_steps = epsilon_decay_steps\n",
    "        self.epsilon_decay = (epsilon_start - epsilon_end) / epsilon_decay_steps\n",
    "        self.epsilon_exponential_decay = epsilon_exponential_decay\n",
    "        self.epsilon_history = []\n",
    "\n",
    "        self.total_steps = self.train_steps = 0\n",
    "        self.episodes = self.episode_length = self.train_episodes = 0\n",
    "        self.steps_per_episode = []\n",
    "        self.episode_reward = 0\n",
    "        self.rewards_history = []\n",
    "\n",
    "        self.batch_size = batch_size\n",
    "        self.tau = tau\n",
    "        self.losses = []\n",
    "        self.idx = tf.range(batch_size)\n",
    "        self.train = True\n",
    "\n",
    "    def build_model(self, trainable=True):\n",
    "        layers = []\n",
    "        n = len(self.architecture)\n",
    "        for i, units in enumerate(self.architecture, 1):\n",
    "            layers.append(Dense(units=units,\n",
    "                                input_dim=self.state_dim if i == 1 else None,\n",
    "                                activation='relu',\n",
    "                                kernel_regularizer=l2(self.l2_reg),\n",
    "                                name=f'Dense_{i}',\n",
    "                                trainable=trainable))\n",
    "        layers.append(Dropout(.1))\n",
    "        layers.append(Dense(units=self.num_actions,\n",
    "                            trainable=trainable,\n",
    "                            name='Output'))\n",
    "        model = Sequential(layers)\n",
    "        model.compile(loss='mean_squared_error',\n",
    "                      optimizer=Adam(learning_rate=self.learning_rate))  # Changed from lr to learning_rate\n",
    "        return model\n",
    "\n",
    "    def update_target(self):\n",
    "        self.target_network.set_weights(self.online_network.get_weights())\n",
    "\n",
    "    def epsilon_greedy_policy(self, state):\n",
    "        self.total_steps += 1\n",
    "        if np.random.rand() <= self.epsilon:\n",
    "            return np.random.choice(self.num_actions)\n",
    "        q = self.online_network.predict(state, verbose=0)  # Added verbose=0 to reduce output\n",
    "        return np.argmax(q, axis=1).squeeze()\n",
    "\n",
    "    def memorize_transition(self, s, a, r, s_prime, not_done):\n",
    "        if not_done:\n",
    "            self.episode_reward += r\n",
    "            self.episode_length += 1\n",
    "        else:\n",
    "            if self.train:\n",
    "                if self.episodes < self.epsilon_decay_steps:\n",
    "                    self.epsilon -= self.epsilon_decay\n",
    "                else:\n",
    "                    self.epsilon *= self.epsilon_exponential_decay\n",
    "\n",
    "            self.episodes += 1\n",
    "            self.rewards_history.append(self.episode_reward)\n",
    "            self.steps_per_episode.append(self.episode_length)\n",
    "            self.episode_reward, self.episode_length = 0, 0\n",
    "\n",
    "        self.experience.append((s, a, r, s_prime, not_done))\n",
    "\n",
    "    def experience_replay(self):\n",
    "        if self.batch_size > len(self.experience):\n",
    "            return\n",
    "        minibatch = map(np.array, zip(*sample(self.experience, self.batch_size)))\n",
    "        states, actions, rewards, next_states, not_done = minibatch\n",
    "\n",
    "        next_q_values = self.online_network.predict_on_batch(next_states)\n",
    "        best_actions = tf.argmax(next_q_values, axis=1)\n",
    "\n",
    "        next_q_values_target = self.target_network.predict_on_batch(next_states)\n",
    "        target_q_values = tf.gather_nd(next_q_values_target,\n",
    "                                       tf.stack((self.idx, tf.cast(best_actions, tf.int32)), axis=1))\n",
    "\n",
    "        targets = rewards + not_done * self.gamma * target_q_values\n",
    "\n",
    "        q_values = self.online_network.predict_on_batch(states)\n",
    "        # Fix the indexing issue - use advanced indexing correctly\n",
    "        indices = tf.stack([self.idx, actions], axis=1)\n",
    "        q_values = tf.tensor_scatter_nd_update(q_values, indices, targets)\n",
    "\n",
    "        loss = self.online_network.train_on_batch(x=states, y=q_values)\n",
    "        self.losses.append(loss)\n",
    "\n",
    "        if self.total_steps % self.tau == 0:\n",
    "            self.update_target()"
   ]
  },
  {
   "cell_type": "markdown",
   "metadata": {},
   "source": [
    "## Define hyperparameters"
   ]
  },
  {
   "cell_type": "code",
   "execution_count": 24,
   "metadata": {
    "ExecuteTime": {
     "end_time": "2021-02-25T06:20:32.575368Z",
     "start_time": "2021-02-25T06:20:32.565067Z"
    }
   },
   "outputs": [],
   "source": [
    "gamma = .99,  # discount factor\n",
    "tau = 100  # target network update frequency"
   ]
  },
  {
   "cell_type": "markdown",
   "metadata": {},
   "source": [
    "### NN Architecture"
   ]
  },
  {
   "cell_type": "code",
   "execution_count": 25,
   "metadata": {
    "ExecuteTime": {
     "end_time": "2021-02-25T06:20:32.584925Z",
     "start_time": "2021-02-25T06:20:32.576469Z"
    }
   },
   "outputs": [],
   "source": [
    "architecture = (256, 256)  # units per layer\n",
    "learning_rate = 0.0001  # learning rate\n",
    "l2_reg = 1e-6  # L2 regularization"
   ]
  },
  {
   "cell_type": "markdown",
   "metadata": {},
   "source": [
    "### Experience Replay"
   ]
  },
  {
   "cell_type": "code",
   "execution_count": 26,
   "metadata": {
    "ExecuteTime": {
     "end_time": "2021-02-25T06:20:32.593134Z",
     "start_time": "2021-02-25T06:20:32.586645Z"
    }
   },
   "outputs": [],
   "source": [
    "replay_capacity = int(1e6)\n",
    "batch_size = 4096"
   ]
  },
  {
   "cell_type": "markdown",
   "metadata": {},
   "source": [
    "### $\\epsilon$-greedy Policy"
   ]
  },
  {
   "cell_type": "code",
   "execution_count": 27,
   "metadata": {
    "ExecuteTime": {
     "end_time": "2021-02-25T06:20:32.603464Z",
     "start_time": "2021-02-25T06:20:32.594606Z"
    }
   },
   "outputs": [],
   "source": [
    "epsilon_start = 1.0\n",
    "epsilon_end = .01\n",
    "epsilon_decay_steps = 250\n",
    "epsilon_exponential_decay = .99"
   ]
  },
  {
   "cell_type": "markdown",
   "metadata": {},
   "source": [
    "## Create DDQN Agent"
   ]
  },
  {
   "cell_type": "markdown",
   "metadata": {},
   "source": [
    "We will use [TensorFlow](https://www.tensorflow.org/) to create our Double Deep Q-Network ."
   ]
  },
  {
   "cell_type": "code",
   "execution_count": 52,
   "metadata": {
    "ExecuteTime": {
     "end_time": "2021-02-25T06:20:32.613239Z",
     "start_time": "2021-02-25T06:20:32.604766Z"
    }
   },
   "outputs": [],
   "source": [
    "tf.keras.backend.clear_session()"
   ]
  },
  {
   "cell_type": "code",
   "execution_count": 53,
   "metadata": {
    "ExecuteTime": {
     "end_time": "2021-02-25T06:20:32.720879Z",
     "start_time": "2021-02-25T06:20:32.614703Z"
    }
   },
   "outputs": [],
   "source": [
    "ddqn = DDQNAgent(state_dim=state_dim,\n",
    "                 num_actions=num_actions,\n",
    "                 learning_rate=learning_rate,\n",
    "                 gamma=gamma,\n",
    "                 epsilon_start=epsilon_start,\n",
    "                 epsilon_end=epsilon_end,\n",
    "                 epsilon_decay_steps=epsilon_decay_steps,\n",
    "                 epsilon_exponential_decay=epsilon_exponential_decay,\n",
    "                 replay_capacity=replay_capacity,\n",
    "                 architecture=architecture,\n",
    "                 l2_reg=l2_reg,\n",
    "                 tau=tau,\n",
    "                 batch_size=batch_size)"
   ]
  },
  {
   "cell_type": "code",
   "execution_count": null,
   "metadata": {
    "ExecuteTime": {
     "end_time": "2021-02-25T06:20:32.725896Z",
     "start_time": "2021-02-25T06:20:32.722143Z"
    }
   },
   "outputs": [
    {
     "name": "stdout",
     "output_type": "stream",
     "text": [
      "Model: \"sequential\"\n",
      "_________________________________________________________________\n",
      "Layer (type)                 Output Shape              Param #   \n",
      "=================================================================\n",
      "Dense_1 (Dense)              (None, 256)               2816      \n",
      "_________________________________________________________________\n",
      "Dense_2 (Dense)              (None, 256)               65792     \n",
      "_________________________________________________________________\n",
      "dropout (Dropout)            (None, 256)               0         \n",
      "_________________________________________________________________\n",
      "Output (Dense)               (None, 3)                 771       \n",
      "=================================================================\n",
      "Total params: 69,379\n",
      "Trainable params: 69,379\n",
      "Non-trainable params: 0\n",
      "_________________________________________________________________\n"
     ]
    }
   ],
   "source": [
    "ddqn.online_network.summary()"
   ]
  },
  {
   "cell_type": "markdown",
   "metadata": {},
   "source": [
    "## Run Experiment"
   ]
  },
  {
   "cell_type": "markdown",
   "metadata": {},
   "source": [
    "### Set parameters"
   ]
  },
  {
   "cell_type": "code",
   "execution_count": 33,
   "metadata": {
    "ExecuteTime": {
     "end_time": "2021-02-25T06:20:32.733088Z",
     "start_time": "2021-02-25T06:20:32.727071Z"
    }
   },
   "outputs": [],
   "source": [
    "total_steps = 0\n",
    "max_episodes = 1000"
   ]
  },
  {
   "cell_type": "markdown",
   "metadata": {},
   "source": [
    "### Initialize variables"
   ]
  },
  {
   "cell_type": "code",
   "execution_count": 54,
   "metadata": {
    "ExecuteTime": {
     "end_time": "2021-02-25T06:20:32.741126Z",
     "start_time": "2021-02-25T06:20:32.734309Z"
    }
   },
   "outputs": [],
   "source": [
    "episode_time, navs, market_navs, diffs, episode_eps = [], [], [], [], []"
   ]
  },
  {
   "cell_type": "markdown",
   "metadata": {},
   "source": [
    "## Visualization"
   ]
  },
  {
   "cell_type": "code",
   "execution_count": 35,
   "metadata": {
    "ExecuteTime": {
     "end_time": "2021-02-25T06:20:32.752721Z",
     "start_time": "2021-02-25T06:20:32.742471Z"
    }
   },
   "outputs": [],
   "source": [
    "def track_results(episode, nav_ma_100, nav_ma_10,\n",
    "                  market_nav_100, market_nav_10,\n",
    "                  win_ratio, total, epsilon):\n",
    "    time_ma = np.mean([episode_time[-100:]])\n",
    "    T = np.sum(episode_time)\n",
    "    \n",
    "    template = '{:>4d} | {} | Agent: {:>6.1%} ({:>6.1%}) | '\n",
    "    template += 'Market: {:>6.1%} ({:>6.1%}) | '\n",
    "    template += 'Wins: {:>5.1%} | eps: {:>6.3f}'\n",
    "    print(template.format(episode, format_time(total), \n",
    "                          nav_ma_100-1, nav_ma_10-1, \n",
    "                          market_nav_100-1, market_nav_10-1, \n",
    "                          win_ratio, epsilon))"
   ]
  },
  {
   "cell_type": "markdown",
   "metadata": {},
   "source": [
    "## Train Agent"
   ]
  },
  {
   "cell_type": "code",
   "execution_count": 55,
   "metadata": {
    "ExecuteTime": {
     "start_time": "2021-02-25T06:20:28.016Z"
    }
   },
   "outputs": [
    {
     "name": "stdout",
     "output_type": "stream",
     "text": [
      "  10 | 00:00:01 | Agent: -29.0% (-29.0%) | Market:   4.0% (  4.0%) | Wins: 30.0% | eps:  0.960\n",
      "  20 | 00:00:25 | Agent: -22.6% (-16.3%) | Market:  17.6% ( 31.1%) | Wins: 30.0% | eps:  0.921\n",
      "  20 | 00:00:25 | Agent: -22.6% (-16.3%) | Market:  17.6% ( 31.1%) | Wins: 30.0% | eps:  0.921\n",
      "  30 | 00:01:26 | Agent: -22.7% (-22.9%) | Market:  12.3% (  1.7%) | Wins: 26.7% | eps:  0.881\n",
      "  30 | 00:01:26 | Agent: -22.7% (-22.9%) | Market:  12.3% (  1.7%) | Wins: 26.7% | eps:  0.881\n",
      "  40 | 00:02:28 | Agent: -21.6% (-18.3%) | Market:  20.6% ( 45.4%) | Wins: 20.0% | eps:  0.842\n",
      "  40 | 00:02:28 | Agent: -21.6% (-18.3%) | Market:  20.6% ( 45.4%) | Wins: 20.0% | eps:  0.842\n",
      "  50 | 00:03:34 | Agent: -19.8% (-12.5%) | Market:  17.8% (  6.8%) | Wins: 20.0% | eps:  0.802\n",
      "  50 | 00:03:34 | Agent: -19.8% (-12.5%) | Market:  17.8% (  6.8%) | Wins: 20.0% | eps:  0.802\n",
      "  60 | 00:04:44 | Agent: -23.5% (-42.2%) | Market:  23.3% ( 51.0%) | Wins: 18.3% | eps:  0.762\n",
      "  60 | 00:04:44 | Agent: -23.5% (-42.2%) | Market:  23.3% ( 51.0%) | Wins: 18.3% | eps:  0.762\n",
      "  70 | 00:06:01 | Agent: -23.8% (-25.4%) | Market:  25.7% ( 40.0%) | Wins: 17.1% | eps:  0.723\n",
      "  70 | 00:06:01 | Agent: -23.8% (-25.4%) | Market:  25.7% ( 40.0%) | Wins: 17.1% | eps:  0.723\n",
      "  80 | 00:07:23 | Agent: -21.3% ( -3.6%) | Market:  24.5% ( 15.6%) | Wins: 18.8% | eps:  0.683\n",
      "  80 | 00:07:23 | Agent: -21.3% ( -3.6%) | Market:  24.5% ( 15.6%) | Wins: 18.8% | eps:  0.683\n",
      "  90 | 00:08:46 | Agent: -19.6% ( -6.0%) | Market:  21.7% ( -0.0%) | Wins: 23.3% | eps:  0.644\n",
      "  90 | 00:08:46 | Agent: -19.6% ( -6.0%) | Market:  21.7% ( -0.0%) | Wins: 23.3% | eps:  0.644\n",
      " 100 | 00:10:11 | Agent: -19.0% (-13.4%) | Market:  22.5% ( 29.3%) | Wins: 22.0% | eps:  0.604\n",
      " 100 | 00:10:11 | Agent: -19.0% (-13.4%) | Market:  22.5% ( 29.3%) | Wins: 22.0% | eps:  0.604\n",
      " 110 | 00:11:39 | Agent: -17.8% (-17.2%) | Market:  26.7% ( 45.7%) | Wins: 21.0% | eps:  0.564\n",
      " 110 | 00:11:39 | Agent: -17.8% (-17.2%) | Market:  26.7% ( 45.7%) | Wins: 21.0% | eps:  0.564\n",
      " 120 | 00:13:14 | Agent: -16.5% ( -3.2%) | Market:  23.6% (  0.7%) | Wins: 22.0% | eps:  0.525\n",
      " 120 | 00:13:14 | Agent: -16.5% ( -3.2%) | Market:  23.6% (  0.7%) | Wins: 22.0% | eps:  0.525\n",
      " 130 | 00:15:01 | Agent: -13.6% (  6.1%) | Market:  25.8% ( 23.3%) | Wins: 24.0% | eps:  0.485\n",
      " 130 | 00:15:01 | Agent: -13.6% (  6.1%) | Market:  25.8% ( 23.3%) | Wins: 24.0% | eps:  0.485\n",
      " 140 | 00:16:42 | Agent: -13.4% (-16.7%) | Market:  25.4% ( 41.8%) | Wins: 25.0% | eps:  0.446\n",
      " 140 | 00:16:42 | Agent: -13.4% (-16.7%) | Market:  25.4% ( 41.8%) | Wins: 25.0% | eps:  0.446\n",
      " 150 | 00:18:25 | Agent: -13.4% (-12.2%) | Market:  31.4% ( 67.0%) | Wins: 24.0% | eps:  0.406\n",
      " 150 | 00:18:25 | Agent: -13.4% (-12.2%) | Market:  31.4% ( 67.0%) | Wins: 24.0% | eps:  0.406\n",
      " 160 | 00:21:29 | Agent: -10.5% (-13.5%) | Market:  27.7% ( 14.2%) | Wins: 27.0% | eps:  0.366\n",
      " 160 | 00:21:29 | Agent: -10.5% (-13.5%) | Market:  27.7% ( 14.2%) | Wins: 27.0% | eps:  0.366\n",
      " 170 | 00:23:20 | Agent:  -8.1% ( -1.1%) | Market:  27.1% ( 33.4%) | Wins: 27.0% | eps:  0.327\n",
      " 170 | 00:23:20 | Agent:  -8.1% ( -1.1%) | Market:  27.1% ( 33.4%) | Wins: 27.0% | eps:  0.327\n",
      " 180 | 00:25:14 | Agent:  -7.4% (  2.7%) | Market:  30.8% ( 53.0%) | Wins: 28.0% | eps:  0.287\n",
      " 180 | 00:25:14 | Agent:  -7.4% (  2.7%) | Market:  30.8% ( 53.0%) | Wins: 28.0% | eps:  0.287\n",
      " 190 | 00:28:13 | Agent:  -8.5% (-16.5%) | Market:  36.1% ( 52.9%) | Wins: 23.0% | eps:  0.248\n",
      " 190 | 00:28:13 | Agent:  -8.5% (-16.5%) | Market:  36.1% ( 52.9%) | Wins: 23.0% | eps:  0.248\n",
      " 200 | 00:30:13 | Agent:  -6.4% (  8.1%) | Market:  37.1% ( 39.0%) | Wins: 23.0% | eps:  0.208\n",
      " 200 | 00:30:13 | Agent:  -6.4% (  8.1%) | Market:  37.1% ( 39.0%) | Wins: 23.0% | eps:  0.208\n",
      " 210 | 00:32:17 | Agent:  -2.2% ( 24.3%) | Market:  37.3% ( 47.2%) | Wins: 23.0% | eps:  0.168\n",
      " 210 | 00:32:17 | Agent:  -2.2% ( 24.3%) | Market:  37.3% ( 47.2%) | Wins: 23.0% | eps:  0.168\n",
      " 220 | 00:34:25 | Agent:  -3.1% (-12.5%) | Market:  40.6% ( 34.5%) | Wins: 19.0% | eps:  0.129\n",
      " 220 | 00:34:25 | Agent:  -3.1% (-12.5%) | Market:  40.6% ( 34.5%) | Wins: 19.0% | eps:  0.129\n",
      " 230 | 00:36:36 | Agent:   0.2% ( 39.3%) | Market:  41.0% ( 27.0%) | Wins: 20.0% | eps:  0.089\n",
      " 230 | 00:36:36 | Agent:   0.2% ( 39.3%) | Market:  41.0% ( 27.0%) | Wins: 20.0% | eps:  0.089\n",
      " 240 | 00:38:49 | Agent:   5.4% ( 35.4%) | Market:  39.5% ( 26.6%) | Wins: 24.0% | eps:  0.050\n",
      " 240 | 00:38:49 | Agent:   5.4% ( 35.4%) | Market:  39.5% ( 26.6%) | Wins: 24.0% | eps:  0.050\n",
      " 250 | 00:41:04 | Agent:  10.3% ( 36.8%) | Market:  38.4% ( 56.3%) | Wins: 27.0% | eps:  0.010\n",
      " 250 | 00:41:04 | Agent:  10.3% ( 36.8%) | Market:  38.4% ( 56.3%) | Wins: 27.0% | eps:  0.010\n",
      " 260 | 00:43:24 | Agent:  13.7% ( 20.4%) | Market:  37.3% (  3.3%) | Wins: 30.0% | eps:  0.009\n",
      " 260 | 00:43:24 | Agent:  13.7% ( 20.4%) | Market:  37.3% (  3.3%) | Wins: 30.0% | eps:  0.009\n",
      " 270 | 00:45:46 | Agent:  16.1% ( 23.2%) | Market:  37.5% ( 35.2%) | Wins: 33.0% | eps:  0.008\n",
      " 270 | 00:45:46 | Agent:  16.1% ( 23.2%) | Market:  37.5% ( 35.2%) | Wins: 33.0% | eps:  0.008\n",
      " 280 | 00:48:06 | Agent:  16.0% (  1.5%) | Market:  36.9% ( 46.9%) | Wins: 31.0% | eps:  0.007\n",
      " 280 | 00:48:06 | Agent:  16.0% (  1.5%) | Market:  36.9% ( 46.9%) | Wins: 31.0% | eps:  0.007\n",
      " 290 | 00:50:24 | Agent:  18.6% (  9.7%) | Market:  35.5% ( 38.9%) | Wins: 33.0% | eps:  0.007\n",
      " 290 | 00:50:24 | Agent:  18.6% (  9.7%) | Market:  35.5% ( 38.9%) | Wins: 33.0% | eps:  0.007\n",
      " 300 | 00:52:45 | Agent:  18.4% (  6.5%) | Market:  33.3% ( 17.2%) | Wins: 37.0% | eps:  0.006\n",
      " 300 | 00:52:45 | Agent:  18.4% (  6.5%) | Market:  33.3% ( 17.2%) | Wins: 37.0% | eps:  0.006\n",
      " 310 | 00:55:06 | Agent:  18.1% ( 20.5%) | Market:  31.3% ( 27.3%) | Wins: 40.0% | eps:  0.005\n",
      " 310 | 00:55:06 | Agent:  18.1% ( 20.5%) | Market:  31.3% ( 27.3%) | Wins: 40.0% | eps:  0.005\n",
      " 320 | 00:57:29 | Agent:  21.9% ( 26.2%) | Market:  34.6% ( 66.9%) | Wins: 43.0% | eps:  0.005\n",
      " 320 | 00:57:29 | Agent:  21.9% ( 26.2%) | Market:  34.6% ( 66.9%) | Wins: 43.0% | eps:  0.005\n",
      " 330 | 00:59:49 | Agent:  21.5% ( 34.3%) | Market:  36.3% ( 44.1%) | Wins: 43.0% | eps:  0.004\n",
      " 330 | 00:59:49 | Agent:  21.5% ( 34.3%) | Market:  36.3% ( 44.1%) | Wins: 43.0% | eps:  0.004\n",
      " 340 | 01:02:12 | Agent:  18.4% (  5.1%) | Market:  34.4% (  8.0%) | Wins: 44.0% | eps:  0.004\n",
      " 340 | 01:02:12 | Agent:  18.4% (  5.1%) | Market:  34.4% (  8.0%) | Wins: 44.0% | eps:  0.004\n",
      " 350 | 01:04:34 | Agent:  18.0% ( 32.6%) | Market:  30.8% ( 19.9%) | Wins: 45.0% | eps:  0.004\n",
      " 350 | 01:04:34 | Agent:  18.0% ( 32.6%) | Market:  30.8% ( 19.9%) | Wins: 45.0% | eps:  0.004\n",
      " 360 | 01:06:56 | Agent:  16.2% (  2.3%) | Market:  31.5% ( 10.3%) | Wins: 43.0% | eps:  0.003\n",
      " 360 | 01:06:56 | Agent:  16.2% (  2.3%) | Market:  31.5% ( 10.3%) | Wins: 43.0% | eps:  0.003\n",
      " 370 | 01:09:20 | Agent:  14.6% (  7.0%) | Market:  33.8% ( 58.4%) | Wins: 41.0% | eps:  0.003\n",
      " 370 | 01:09:20 | Agent:  14.6% (  7.0%) | Market:  33.8% ( 58.4%) | Wins: 41.0% | eps:  0.003\n",
      " 380 | 01:11:46 | Agent:  17.3% ( 29.1%) | Market:  31.4% ( 23.2%) | Wins: 43.0% | eps:  0.003\n",
      " 380 | 01:11:46 | Agent:  17.3% ( 29.1%) | Market:  31.4% ( 23.2%) | Wins: 43.0% | eps:  0.003\n",
      " 390 | 01:14:08 | Agent:  23.9% ( 75.1%) | Market:  28.3% (  8.0%) | Wins: 47.0% | eps:  0.002\n",
      " 390 | 01:14:08 | Agent:  23.9% ( 75.1%) | Market:  28.3% (  8.0%) | Wins: 47.0% | eps:  0.002\n",
      " 400 | 01:16:34 | Agent:  27.7% ( 44.5%) | Market:  27.9% ( 12.5%) | Wins: 48.0% | eps:  0.002\n",
      " 400 | 01:16:34 | Agent:  27.7% ( 44.5%) | Market:  27.9% ( 12.5%) | Wins: 48.0% | eps:  0.002\n",
      " 410 | 01:18:58 | Agent:  28.1% ( 24.5%) | Market:  32.9% ( 78.0%) | Wins: 46.0% | eps:  0.002\n",
      " 410 | 01:18:58 | Agent:  28.1% ( 24.5%) | Market:  32.9% ( 78.0%) | Wins: 46.0% | eps:  0.002\n",
      " 420 | 01:26:17 | Agent:  27.9% ( 24.4%) | Market:  29.9% ( 36.3%) | Wins: 47.0% | eps:  0.002\n",
      " 420 | 01:26:17 | Agent:  27.9% ( 24.4%) | Market:  29.9% ( 36.3%) | Wins: 47.0% | eps:  0.002\n",
      " 430 | 01:28:44 | Agent:  28.5% ( 40.2%) | Market:  28.8% ( 33.3%) | Wins: 46.0% | eps:  0.002\n",
      " 430 | 01:28:44 | Agent:  28.5% ( 40.2%) | Market:  28.8% ( 33.3%) | Wins: 46.0% | eps:  0.002\n",
      " 440 | 01:34:10 | Agent:  34.2% ( 61.7%) | Market:  28.9% (  9.4%) | Wins: 47.0% | eps:  0.001\n",
      " 440 | 01:34:10 | Agent:  34.2% ( 61.7%) | Market:  28.9% (  9.4%) | Wins: 47.0% | eps:  0.001\n",
      " 450 | 01:36:43 | Agent:  35.9% ( 50.1%) | Market:  29.2% ( 22.5%) | Wins: 48.0% | eps:  0.001\n",
      " 450 | 01:36:43 | Agent:  35.9% ( 50.1%) | Market:  29.2% ( 22.5%) | Wins: 48.0% | eps:  0.001\n",
      " 460 | 01:39:07 | Agent:  36.7% ( 10.2%) | Market:  31.0% ( 28.5%) | Wins: 45.0% | eps:  0.001\n",
      " 460 | 01:39:07 | Agent:  36.7% ( 10.2%) | Market:  31.0% ( 28.5%) | Wins: 45.0% | eps:  0.001\n",
      " 470 | 01:41:32 | Agent:  36.9% (  9.4%) | Market:  23.6% (-16.1%) | Wins: 51.0% | eps:  0.001\n",
      " 470 | 01:41:32 | Agent:  36.9% (  9.4%) | Market:  23.6% (-16.1%) | Wins: 51.0% | eps:  0.001\n",
      " 480 | 01:44:02 | Agent:  35.4% ( 13.8%) | Market:  21.6% (  3.9%) | Wins: 52.0% | eps:  0.001\n",
      " 480 | 01:44:02 | Agent:  35.4% ( 13.8%) | Market:  21.6% (  3.9%) | Wins: 52.0% | eps:  0.001\n",
      " 490 | 01:50:42 | Agent:  31.4% ( 34.7%) | Market:  25.0% ( 41.8%) | Wins: 50.0% | eps:  0.001\n",
      " 490 | 01:50:42 | Agent:  31.4% ( 34.7%) | Market:  25.0% ( 41.8%) | Wins: 50.0% | eps:  0.001\n",
      " 500 | 02:01:11 | Agent:  29.2% ( 22.7%) | Market:  28.2% ( 44.5%) | Wins: 47.0% | eps:  0.001\n",
      " 500 | 02:01:11 | Agent:  29.2% ( 22.7%) | Market:  28.2% ( 44.5%) | Wins: 47.0% | eps:  0.001\n",
      " 510 | 02:14:47 | Agent:  28.4% ( 16.8%) | Market:  21.0% (  5.7%) | Wins: 49.0% | eps:  0.001\n",
      " 510 | 02:14:47 | Agent:  28.4% ( 16.8%) | Market:  21.0% (  5.7%) | Wins: 49.0% | eps:  0.001\n",
      " 520 | 02:23:15 | Agent:  28.3% ( 22.8%) | Market:  23.1% ( 57.9%) | Wins: 50.0% | eps:  0.001\n",
      " 520 | 02:23:15 | Agent:  28.3% ( 22.8%) | Market:  23.1% ( 57.9%) | Wins: 50.0% | eps:  0.001\n",
      " 530 | 03:05:38 | Agent:  25.0% (  8.1%) | Market:  23.2% ( 34.1%) | Wins: 49.0% | eps:  0.001\n",
      " 530 | 03:05:38 | Agent:  25.0% (  8.1%) | Market:  23.2% ( 34.1%) | Wins: 49.0% | eps:  0.001\n",
      " 540 | 03:08:36 | Agent:  26.6% ( 77.5%) | Market:  26.4% ( 41.3%) | Wins: 47.0% | eps:  0.001\n",
      " 540 | 03:08:36 | Agent:  26.6% ( 77.5%) | Market:  26.4% ( 41.3%) | Wins: 47.0% | eps:  0.001\n",
      " 550 | 04:24:17 | Agent:  24.9% ( 32.4%) | Market:  31.0% ( 68.1%) | Wins: 45.0% | eps:  0.000\n",
      " 550 | 04:24:17 | Agent:  24.9% ( 32.4%) | Market:  31.0% ( 68.1%) | Wins: 45.0% | eps:  0.000\n",
      " 560 | 04:26:48 | Agent:  32.9% ( 91.0%) | Market:  32.6% ( 45.0%) | Wins: 50.0% | eps:  0.000\n",
      " 560 | 04:26:48 | Agent:  32.9% ( 91.0%) | Market:  32.6% ( 45.0%) | Wins: 50.0% | eps:  0.000\n",
      " 570 | 04:31:22 | Agent:  35.6% ( 36.3%) | Market:  35.7% ( 14.6%) | Wins: 48.0% | eps:  0.000\n",
      " 570 | 04:31:22 | Agent:  35.6% ( 36.3%) | Market:  35.7% ( 14.6%) | Wins: 48.0% | eps:  0.000\n",
      " 580 | 04:41:54 | Agent:  36.9% ( 26.3%) | Market:  41.1% ( 58.0%) | Wins: 46.0% | eps:  0.000\n",
      " 580 | 04:41:54 | Agent:  36.9% ( 26.3%) | Market:  41.1% ( 58.0%) | Wins: 46.0% | eps:  0.000\n",
      " 590 | 04:44:32 | Agent:  41.3% ( 79.3%) | Market:  42.3% ( 54.0%) | Wins: 44.0% | eps:  0.000\n",
      " 590 | 04:44:32 | Agent:  41.3% ( 79.3%) | Market:  42.3% ( 54.0%) | Wins: 44.0% | eps:  0.000\n",
      " 600 | 04:47:04 | Agent:  39.8% (  7.4%) | Market:  42.4% ( 45.5%) | Wins: 44.0% | eps:  0.000\n",
      " 600 | 04:47:04 | Agent:  39.8% (  7.4%) | Market:  42.4% ( 45.5%) | Wins: 44.0% | eps:  0.000\n",
      " 610 | 04:49:43 | Agent:  45.8% ( 77.2%) | Market:  45.7% ( 38.2%) | Wins: 46.0% | eps:  0.000\n",
      " 610 | 04:49:43 | Agent:  45.8% ( 77.2%) | Market:  45.7% ( 38.2%) | Wins: 46.0% | eps:  0.000\n",
      " 620 | 04:52:19 | Agent:  47.5% ( 39.4%) | Market:  42.7% ( 28.5%) | Wins: 46.0% | eps:  0.000\n",
      " 620 | 04:52:19 | Agent:  47.5% ( 39.4%) | Market:  42.7% ( 28.5%) | Wins: 46.0% | eps:  0.000\n",
      " 630 | 04:54:57 | Agent:  49.4% ( 27.6%) | Market:  45.1% ( 57.4%) | Wins: 47.0% | eps:  0.000\n",
      " 630 | 04:54:57 | Agent:  49.4% ( 27.6%) | Market:  45.1% ( 57.4%) | Wins: 47.0% | eps:  0.000\n",
      " 640 | 04:57:36 | Agent:  46.2% ( 45.2%) | Market:  47.8% ( 68.6%) | Wins: 44.0% | eps:  0.000\n",
      " 640 | 04:57:36 | Agent:  46.2% ( 45.2%) | Market:  47.8% ( 68.6%) | Wins: 44.0% | eps:  0.000\n",
      " 650 | 05:00:16 | Agent:  46.7% ( 37.6%) | Market:  42.9% ( 18.5%) | Wins: 44.0% | eps:  0.000\n",
      " 650 | 05:00:16 | Agent:  46.7% ( 37.6%) | Market:  42.9% ( 18.5%) | Wins: 44.0% | eps:  0.000\n",
      " 660 | 05:02:59 | Agent:  43.7% ( 60.8%) | Market:  42.8% ( 44.0%) | Wins: 42.0% | eps:  0.000\n",
      " 660 | 05:02:59 | Agent:  43.7% ( 60.8%) | Market:  42.8% ( 44.0%) | Wins: 42.0% | eps:  0.000\n",
      " 670 | 05:05:41 | Agent:  44.6% ( 44.9%) | Market:  45.2% ( 39.4%) | Wins: 42.0% | eps:  0.000\n",
      " 670 | 05:05:41 | Agent:  44.6% ( 44.9%) | Market:  45.2% ( 39.4%) | Wins: 42.0% | eps:  0.000\n",
      " 680 | 05:08:27 | Agent:  45.7% ( 37.4%) | Market:  39.8% (  3.3%) | Wins: 44.0% | eps:  0.000\n",
      " 680 | 05:08:27 | Agent:  45.7% ( 37.4%) | Market:  39.8% (  3.3%) | Wins: 44.0% | eps:  0.000\n",
      " 690 | 05:11:09 | Agent:  40.7% ( 29.0%) | Market:  37.9% ( 35.0%) | Wins: 45.0% | eps:  0.000\n",
      " 690 | 05:11:09 | Agent:  40.7% ( 29.0%) | Market:  37.9% ( 35.0%) | Wins: 45.0% | eps:  0.000\n",
      " 700 | 05:13:60 | Agent:  47.7% ( 78.1%) | Market:  38.4% ( 50.7%) | Wins: 45.0% | eps:  0.000\n",
      " 700 | 05:13:60 | Agent:  47.7% ( 78.1%) | Market:  38.4% ( 50.7%) | Wins: 45.0% | eps:  0.000\n",
      " 710 | 05:16:50 | Agent:  45.7% ( 57.5%) | Market:  36.8% ( 22.5%) | Wins: 46.0% | eps:  0.000\n",
      " 710 | 05:16:50 | Agent:  45.7% ( 57.5%) | Market:  36.8% ( 22.5%) | Wins: 46.0% | eps:  0.000\n",
      " 720 | 05:19:54 | Agent:  45.7% ( 38.5%) | Market:  36.9% ( 29.0%) | Wins: 45.0% | eps:  0.000\n",
      " 720 | 05:19:54 | Agent:  45.7% ( 38.5%) | Market:  36.9% ( 29.0%) | Wins: 45.0% | eps:  0.000\n",
      " 730 | 05:22:38 | Agent:  46.2% ( 33.0%) | Market:  31.0% ( -1.2%) | Wins: 48.0% | eps:  0.000\n",
      " 730 | 05:22:38 | Agent:  46.2% ( 33.0%) | Market:  31.0% ( -1.2%) | Wins: 48.0% | eps:  0.000\n",
      " 740 | 05:25:41 | Agent:  45.2% ( 35.0%) | Market:  27.3% ( 31.7%) | Wins: 50.0% | eps:  0.000\n",
      " 740 | 05:25:41 | Agent:  45.2% ( 35.0%) | Market:  27.3% ( 31.7%) | Wins: 50.0% | eps:  0.000\n",
      " 750 | 05:28:39 | Agent:  46.6% ( 51.6%) | Market:  29.0% ( 35.3%) | Wins: 51.0% | eps:  0.000\n",
      " 750 | 05:28:39 | Agent:  46.6% ( 51.6%) | Market:  29.0% ( 35.3%) | Wins: 51.0% | eps:  0.000\n",
      " 760 | 05:31:30 | Agent:  45.8% ( 53.0%) | Market:  32.7% ( 81.3%) | Wins: 49.0% | eps:  0.000\n",
      " 760 | 05:31:30 | Agent:  45.8% ( 53.0%) | Market:  32.7% ( 81.3%) | Wins: 49.0% | eps:  0.000\n",
      " 770 | 05:34:25 | Agent:  45.9% ( 46.3%) | Market:  34.4% ( 56.8%) | Wins: 47.0% | eps:  0.000\n",
      " 770 | 05:34:25 | Agent:  45.9% ( 46.3%) | Market:  34.4% ( 56.8%) | Wins: 47.0% | eps:  0.000\n",
      " 780 | 05:37:32 | Agent:  46.9% ( 47.0%) | Market:  36.5% ( 23.9%) | Wins: 47.0% | eps:  0.000\n",
      " 780 | 05:37:32 | Agent:  46.9% ( 47.0%) | Market:  36.5% ( 23.9%) | Wins: 47.0% | eps:  0.000\n",
      " 790 | 05:40:32 | Agent:  54.9% (109.0%) | Market:  35.9% ( 29.5%) | Wins: 49.0% | eps:  0.000\n",
      " 790 | 05:40:32 | Agent:  54.9% (109.0%) | Market:  35.9% ( 29.5%) | Wins: 49.0% | eps:  0.000\n",
      " 800 | 05:43:26 | Agent:  51.0% ( 39.2%) | Market:  33.2% ( 23.1%) | Wins: 51.0% | eps:  0.000\n",
      " 800 | 05:43:26 | Agent:  51.0% ( 39.2%) | Market:  33.2% ( 23.1%) | Wins: 51.0% | eps:  0.000\n",
      " 810 | 05:46:25 | Agent:  52.2% ( 69.0%) | Market:  33.5% ( 25.9%) | Wins: 49.0% | eps:  0.000\n",
      " 810 | 05:46:25 | Agent:  52.2% ( 69.0%) | Market:  33.5% ( 25.9%) | Wins: 49.0% | eps:  0.000\n",
      " 820 | 05:49:20 | Agent:  53.5% ( 51.9%) | Market:  38.7% ( 81.3%) | Wins: 48.0% | eps:  0.000\n",
      " 820 | 05:49:20 | Agent:  53.5% ( 51.9%) | Market:  38.7% ( 81.3%) | Wins: 48.0% | eps:  0.000\n",
      " 830 | 05:52:22 | Agent:  56.7% ( 64.5%) | Market:  40.4% ( 15.0%) | Wins: 46.0% | eps:  0.000\n",
      " 830 | 05:52:22 | Agent:  56.7% ( 64.5%) | Market:  40.4% ( 15.0%) | Wins: 46.0% | eps:  0.000\n",
      " 840 | 05:55:29 | Agent:  58.9% ( 57.8%) | Market:  36.4% ( -8.4%) | Wins: 50.0% | eps:  0.000\n",
      " 840 | 05:55:29 | Agent:  58.9% ( 57.8%) | Market:  36.4% ( -8.4%) | Wins: 50.0% | eps:  0.000\n",
      " 850 | 05:58:37 | Agent:  60.2% ( 64.7%) | Market:  37.7% ( 48.8%) | Wins: 49.0% | eps:  0.000\n",
      " 850 | 05:58:37 | Agent:  60.2% ( 64.7%) | Market:  37.7% ( 48.8%) | Wins: 49.0% | eps:  0.000\n",
      " 860 | 06:01:42 | Agent:  60.3% ( 54.0%) | Market:  30.6% (  9.9%) | Wins: 51.0% | eps:  0.000\n",
      " 860 | 06:01:42 | Agent:  60.3% ( 54.0%) | Market:  30.6% (  9.9%) | Wins: 51.0% | eps:  0.000\n",
      " 870 | 06:04:49 | Agent:  61.5% ( 57.7%) | Market:  28.4% ( 34.8%) | Wins: 50.0% | eps:  0.000\n",
      " 870 | 06:04:49 | Agent:  61.5% ( 57.7%) | Market:  28.4% ( 34.8%) | Wins: 50.0% | eps:  0.000\n",
      " 880 | 06:07:57 | Agent:  60.4% ( 35.8%) | Market:  27.9% ( 18.9%) | Wins: 50.0% | eps:  0.000\n",
      " 880 | 06:07:57 | Agent:  60.4% ( 35.8%) | Market:  27.9% ( 18.9%) | Wins: 50.0% | eps:  0.000\n",
      " 890 | 06:11:03 | Agent:  52.9% ( 34.6%) | Market:  28.8% ( 39.0%) | Wins: 48.0% | eps:  0.000\n",
      " 890 | 06:11:03 | Agent:  52.9% ( 34.6%) | Market:  28.8% ( 39.0%) | Wins: 48.0% | eps:  0.000\n",
      " 900 | 06:14:03 | Agent:  50.4% ( 14.2%) | Market:  32.0% ( 54.8%) | Wins: 45.0% | eps:  0.000\n",
      " 900 | 06:14:03 | Agent:  50.4% ( 14.2%) | Market:  32.0% ( 54.8%) | Wins: 45.0% | eps:  0.000\n",
      " 910 | 06:17:02 | Agent:  47.6% ( 40.7%) | Market:  32.8% ( 33.6%) | Wins: 45.0% | eps:  0.000\n",
      " 910 | 06:17:02 | Agent:  47.6% ( 40.7%) | Market:  32.8% ( 33.6%) | Wins: 45.0% | eps:  0.000\n",
      " 920 | 06:20:01 | Agent:  45.1% ( 27.4%) | Market:  33.1% ( 84.2%) | Wins: 43.0% | eps:  0.000\n",
      " 920 | 06:20:01 | Agent:  45.1% ( 27.4%) | Market:  33.1% ( 84.2%) | Wins: 43.0% | eps:  0.000\n",
      " 930 | 06:23:01 | Agent:  43.8% ( 50.6%) | Market:  34.5% ( 29.6%) | Wins: 45.0% | eps:  0.000\n",
      " 930 | 06:23:01 | Agent:  43.8% ( 50.6%) | Market:  34.5% ( 29.6%) | Wins: 45.0% | eps:  0.000\n",
      " 940 | 06:26:02 | Agent:  42.6% ( 46.4%) | Market:  35.9% (  5.5%) | Wins: 43.0% | eps:  0.000\n",
      " 940 | 06:26:02 | Agent:  42.6% ( 46.4%) | Market:  35.9% (  5.5%) | Wins: 43.0% | eps:  0.000\n",
      " 950 | 06:44:32 | Agent:  42.3% ( 61.2%) | Market:  37.0% ( 59.5%) | Wins: 43.0% | eps:  0.000\n",
      " 950 | 06:44:32 | Agent:  42.3% ( 61.2%) | Market:  37.0% ( 59.5%) | Wins: 43.0% | eps:  0.000\n",
      " 960 | 06:51:25 | Agent:  40.9% ( 40.8%) | Market:  37.2% ( 12.1%) | Wins: 44.0% | eps:  0.000\n",
      " 960 | 06:51:25 | Agent:  40.9% ( 40.8%) | Market:  37.2% ( 12.1%) | Wins: 44.0% | eps:  0.000\n",
      " 970 | 06:54:29 | Agent:  46.3% (111.4%) | Market:  37.0% ( 32.4%) | Wins: 49.0% | eps:  0.000\n",
      " 970 | 06:54:29 | Agent:  46.3% (111.4%) | Market:  37.0% ( 32.4%) | Wins: 49.0% | eps:  0.000\n",
      " 980 | 07:15:26 | Agent:  47.8% ( 51.1%) | Market:  36.7% ( 16.4%) | Wins: 50.0% | eps:  0.000\n",
      " 980 | 07:15:26 | Agent:  47.8% ( 51.1%) | Market:  36.7% ( 16.4%) | Wins: 50.0% | eps:  0.000\n",
      " 990 | 07:18:38 | Agent:  46.8% ( 23.8%) | Market:  34.7% ( 18.9%) | Wins: 52.0% | eps:  0.000\n",
      " 990 | 07:18:38 | Agent:  46.8% ( 23.8%) | Market:  34.7% ( 18.9%) | Wins: 52.0% | eps:  0.000\n",
      "1000 | 07:21:50 | Agent:  51.3% ( 59.3%) | Market:  34.9% ( 56.5%) | Wins: 57.0% | eps:  0.000\n",
      "1000 | 07:21:50 | Agent:  51.3% ( 59.3%) | Market:  34.9% ( 56.5%) | Wins: 57.0% | eps:  0.000\n"
     ]
    }
   ],
   "source": [
    "start = time()\n",
    "results = []\n",
    "for episode in range(1, max_episodes + 1):\n",
    "    # Reset environment - now returns (observation, info) tuple\n",
    "    this_state, _ = trading_environment.reset()\n",
    "        \n",
    "    for episode_step in range(max_episode_steps):\n",
    "        action = ddqn.epsilon_greedy_policy(this_state.reshape(-1, state_dim))\n",
    "        \n",
    "        # Step environment - now returns (obs, reward, terminated, truncated, info)\n",
    "        next_state, reward, terminated, truncated, info = trading_environment.step(action)\n",
    "        done = terminated or truncated\n",
    "    \n",
    "        ddqn.memorize_transition(this_state, \n",
    "                                 action, \n",
    "                                 reward, \n",
    "                                 next_state, \n",
    "                                 0.0 if done else 1.0)\n",
    "        if ddqn.train:\n",
    "            ddqn.experience_replay()\n",
    "        if done:\n",
    "            break\n",
    "        this_state = next_state\n",
    "\n",
    "    # get DataFrame with sequence of actions, returns and nav values\n",
    "    # Access the simulator through the unwrapped environment\n",
    "    result = trading_environment.unwrapped.simulator.result()\n",
    "    \n",
    "    # get results of last step\n",
    "    final = result.iloc[-1]\n",
    "\n",
    "    # apply return (net of cost) of last action to last starting nav \n",
    "    nav = final.nav * (1 + final.strategy_return)\n",
    "    navs.append(nav)\n",
    "\n",
    "    # market nav \n",
    "    market_nav = final.market_nav\n",
    "    market_navs.append(market_nav)\n",
    "\n",
    "    # track difference between agent an market NAV results\n",
    "    diff = nav - market_nav\n",
    "    diffs.append(diff)\n",
    "    \n",
    "    if episode % 10 == 0:\n",
    "        track_results(episode, \n",
    "                      # show mov. average results for 100 (10) periods\n",
    "                      np.mean(navs[-100:]), \n",
    "                      np.mean(navs[-10:]), \n",
    "                      np.mean(market_navs[-100:]), \n",
    "                      np.mean(market_navs[-10:]), \n",
    "                      # share of agent wins, defined as higher ending nav\n",
    "                      np.sum([s > 0 for s in diffs[-100:]])/min(len(diffs), 100), \n",
    "                      time() - start, ddqn.epsilon)\n",
    "    if len(diffs) > 25 and all([r > 0 for r in diffs[-25:]]):\n",
    "        print(result.tail())\n",
    "        break\n",
    "\n",
    "trading_environment.close()"
   ]
  },
  {
   "cell_type": "markdown",
   "metadata": {},
   "source": [
    "### Store Results"
   ]
  },
  {
   "cell_type": "code",
   "execution_count": 56,
   "metadata": {
    "ExecuteTime": {
     "start_time": "2021-02-25T06:20:28.020Z"
    }
   },
   "outputs": [
    {
     "name": "stdout",
     "output_type": "stream",
     "text": [
      "<class 'pandas.core.frame.DataFrame'>\n",
      "Index: 1000 entries, 1 to 1000\n",
      "Data columns (total 4 columns):\n",
      " #   Column             Non-Null Count  Dtype  \n",
      "---  ------             --------------  -----  \n",
      " 0   Agent              1000 non-null   float64\n",
      " 1   Market             1000 non-null   float64\n",
      " 2   Difference         1000 non-null   float64\n",
      " 3   Strategy Wins (%)  901 non-null    float64\n",
      "dtypes: float64(4)\n",
      "memory usage: 39.1 KB\n"
     ]
    }
   ],
   "source": [
    "results = pd.DataFrame({'Episode': list(range(1, episode+1)),\n",
    "                        'Agent': navs,\n",
    "                        'Market': market_navs,\n",
    "                        'Difference': diffs}).set_index('Episode')\n",
    "\n",
    "results['Strategy Wins (%)'] = (results.Difference > 0).rolling(100).sum()\n",
    "results.info()"
   ]
  },
  {
   "cell_type": "code",
   "execution_count": 57,
   "metadata": {
    "ExecuteTime": {
     "start_time": "2021-02-25T06:20:28.023Z"
    }
   },
   "outputs": [],
   "source": [
    "results.to_csv(results_path / 'results.csv', index=False)"
   ]
  },
  {
   "cell_type": "code",
   "execution_count": 58,
   "metadata": {
    "ExecuteTime": {
     "start_time": "2021-02-25T06:20:28.025Z"
    }
   },
   "outputs": [
    {
     "data": {
      "image/png": "[encoded data removed]",
      "text/plain": [
       "<Figure size 640x480 with 1 Axes>"
      ]
     },
     "metadata": {},
     "output_type": "display_data"
    }
   ],
   "source": [
    "with sns.axes_style('white'):\n",
    "    sns.distplot(results.Difference)\n",
    "    sns.despine()"
   ]
  },
  {
   "cell_type": "markdown",
   "metadata": {},
   "source": [
    "### Evaluate Results"
   ]
  },
  {
   "cell_type": "code",
   "execution_count": 60,
   "metadata": {
    "ExecuteTime": {
     "start_time": "2021-02-25T06:20:28.029Z"
    }
   },
   "outputs": [
    {
     "name": "stdout",
     "output_type": "stream",
     "text": [
      "<class 'pandas.core.frame.DataFrame'>\n",
      "Index: 1000 entries, 1 to 1000\n",
      "Data columns (total 4 columns):\n",
      " #   Column             Non-Null Count  Dtype  \n",
      "---  ------             --------------  -----  \n",
      " 0   Agent              1000 non-null   float64\n",
      " 1   Market             1000 non-null   float64\n",
      " 2   Difference         1000 non-null   float64\n",
      " 3   Strategy Wins (%)  901 non-null    float64\n",
      "dtypes: float64(4)\n",
      "memory usage: 39.1 KB\n"
     ]
    }
   ],
   "source": [
    "results.info()"
   ]
  },
  {
   "cell_type": "markdown",
   "metadata": {},
   "source": [
    "The following diagram shows the rolling average of agent and market returns over 100 periods on the left, and the share of the last 100 periods the agent outperformed the market on the right. It uses AAPL stock data with some 9,000 daily price and volume observations, corresponding to ~35 years of data. \n",
    "\n",
    "It shows how the agent's performance improves significantly while exploring at a higher rate over the first ~600 periods (that is, years) and approaches a level where it outperforms the market around 40 percent of the time, despite transaction costs. In an increasing number of instances, it beats the market over half the time out of 100 periods:"
   ]
  },
  {
   "cell_type": "code",
   "execution_count": 61,
   "metadata": {
    "ExecuteTime": {
     "start_time": "2021-02-25T06:20:28.031Z"
    }
   },
   "outputs": [
    {
     "data": {
      "image/png": "[encoded data removed]",
      "text/plain": [
       "<Figure size 1400x400 with 2 Axes>"
      ]
     },
     "metadata": {},
     "output_type": "display_data"
    }
   ],
   "source": [
    "fig, axes = plt.subplots(ncols=2, figsize=(14, 4), sharey=True)\n",
    "\n",
    "df1 = (results[['Agent', 'Market']]\n",
    "       .sub(1)\n",
    "       .rolling(100)\n",
    "       .mean())\n",
    "df1.plot(ax=axes[0],\n",
    "         title='Annual Returns (Moving Average)',\n",
    "         lw=1)\n",
    "\n",
    "df2 = results['Strategy Wins (%)'].div(100).rolling(50).mean()\n",
    "df2.plot(ax=axes[1],\n",
    "         title='Agent Outperformance (%, Moving Average)')\n",
    "\n",
    "for ax in axes:\n",
    "    ax.yaxis.set_major_formatter(\n",
    "        FuncFormatter(lambda y, _: '{:.0%}'.format(y)))\n",
    "    ax.xaxis.set_major_formatter(\n",
    "        FuncFormatter(lambda x, _: '{:,.0f}'.format(x)))\n",
    "axes[1].axhline(.5, ls='--', c='k', lw=1)\n",
    "\n",
    "sns.despine()\n",
    "fig.tight_layout()\n",
    "fig.savefig(results_path / 'performance', dpi=300)"
   ]
  },
  {
   "cell_type": "markdown",
   "metadata": {},
   "source": [
    "## Summary"
   ]
  },
  {
   "cell_type": "markdown",
   "metadata": {},
   "source": [
    "This relatively simple agent uses **no information beyond the latest market data and the reward signal** compared to the machine learning models we covered elsewhere in this book. Nonetheless, it learns to make a profit and achieve performance similar to that of the market (after training on <1,000 years' worth of data, which takes only a fraction of the time on a GPU).\n",
    "\n",
    "Keep in mind that using a single stock also increases the **risk of overfitting** to the data — by a lot. You can test your trained agent on new data using the saved model (see the notebook for Lunar Lander).\n",
    "\n",
    "In summary, we have demonstrated the **mechanics of setting up an RL trading environment** and experimented with a basic agent that uses a small number of technical indicators. You should **try to extend both the environment and the agent** - for example, by allowing it to choose from several assets, size the positions, and manage risks.\n",
    "\n",
    "Reinforcement learning is often considered **one of the most promising approaches to algorithmic trading** because it most accurately models the task an investor is facing. However, our dramatically simplified examples illustrate that creating a **realistic environment poses a considerable challenge**. Moreover, deep reinforcement learning that has achieved impressive breakthroughs in other domains may face greater obstacles given the noisy nature of financial data, which makes it even harder to learn a value function based on delayed rewards.\n",
    "\n",
    "Nonetheless, the substantial interest in this subject makes it likely that institutional investors are working on larger-scale experiments that may yield tangible results. An interesting complementary approach beyond the scope of this book is **Inverse Reinforcement Learning**, which aims to identify the reward function of an agent(for example, a human trader) given its observed behavior; see [Arora and Doshi (2019)](https://www.semanticscholar.org/paper/A-Survey-of-Inverse-Reinforcement-Learning%3A-Methods-Arora-Doshi/9d4d8509f6da094a7c31e063f307e0e8592db27f) for a survey and [Roa-Vicens et al. (2019)](https://deepai.org/publication/towards-inverse-reinforcement-learning-for-limit-order-book-dynamics) for an application on trading in the limit-order book context.\n"
   ]
  },
  {
   "cell_type": "code",
   "execution_count": null,
   "metadata": {},
   "outputs": [],
   "source": []
  }
 ],
 "metadata": {
  "kernelspec": {
   "display_name": "Python 3",
   "language": "python",
   "name": "python3"
  },
  "language_info": {
   "codemirror_mode": {
    "name": "ipython",
    "version": 3
   },
   "file_extension": ".py",
   "mimetype": "text/x-python",
   "name": "python",
   "nbconvert_exporter": "python",
   "pygments_lexer": "ipython3",
   "version": "3.11.13"
  },
  "toc": {
   "base_numbering": 1,
   "nav_menu": {},
   "number_sections": true,
   "sideBar": true,
   "skip_h1_title": true,
   "title_cell": "Table of Contents",
   "title_sidebar": "Contents",
   "toc_cell": false,
   "toc_position": {
    "height": "calc(100% - 180px)",
    "left": "10px",
    "top": "150px",
    "width": "230.906px"
   },
   "toc_section_display": true,
   "toc_window_display": true
  }
 },
 "nbformat": 4,
 "nbformat_minor": 4
}
